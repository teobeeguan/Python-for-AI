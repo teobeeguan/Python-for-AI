{
 "cells": [
  {
   "cell_type": "code",
   "execution_count": null,
   "id": "f99cf131-9f1a-4632-9b5f-1f8cd3ab1dde",
   "metadata": {},
   "outputs": [],
   "source": [
    "def refresh_token(base_url, refresh_token_id):\n",
    "        content = 'refresh_token=' + refresh_token_id + '&grant_type=refresh_token'\n",
    "        response = requests.post(base_url + 'token', data = content, headers={\"Content-Type\": \"application/x-www-form-urlencoded\"})\n",
    "        token_entity = response.json()\n",
    "        refresh_token = token_entity.get('access_token',token_entity)\n",
    "        return refresh_token\n",
    "\n",
    "\n",
    "def request_t_get(host, path, tokenStr):\n",
    "\treturn requests.get(host + path, headers={'Authorization': 'bearer ' + tokenStr}).json()\n",
    "\n",
    "\n",
    "def get_task_group(base_url, token):\n",
    "        print('GetTaskGroups:')\n",
    "        url = 'api/taskgroup'\n",
    "        response = request_t_get(base_url, url, token)\n",
    "        groups = []\n",
    "        if 'error' in response:\n",
    "                if response['error'] == 'success':\n",
    "                        groups = response['data']\n",
    "                        for taskgroup in groups:\n",
    "                                print('%s\\t%s'%(taskgroup['taskGroupId'],taskgroup['taskGroupName']))\n",
    "                else:\n",
    "                        print(response['error_Description'])\n",
    "        else:\n",
    "                print(response)             \n",
    "        return groups\n",
    "\n",
    "\n",
    "def get_task_by_group_id(base_url, token, groupId):\n",
    "        print('GetTasks:')\n",
    "        url = 'api/task?taskgroupId=' + str(groupId)\n",
    "        response = request_t_get(base_url, url, token)\n",
    "        if 'error' in response:\n",
    "                if response['error'] == 'success':\n",
    "                        tasks = response['data']\n",
    "                        for task in tasks:\n",
    "                                print('%s\\t%s'%(task['taskId'],task['taskName']))\n",
    "                else:\n",
    "                        print(response['error_Description'])\n",
    "        else:\n",
    "                print(response)\n",
    "        return tasks\n",
    "\n",
    "\n",
    "def get_data_by_offset(base_url, token, task_id, offset=0, size=10):\n",
    "        print('GetTaskDataByOffset:')\n",
    "        url = 'api/allData/getDataOfTaskByOffset?taskId=%s&offset=%s&size=%s'%(task_id, offset, size)\n",
    "        task_data_result = request_t_get(base_url, url, token)\n",
    "        show_task_data(task_data_result)\n",
    "        return task_data_result\n",
    "\n",
    "\n",
    "\n",
    "def show_task_data(dataResult):\n",
    "\tif 'error' in dataResult:\n",
    "\t\tif dataResult['error'] == 'success' and 'dataList' in dataResult['data']:\n",
    "\t\t\tdataDict = dataResult['data']['dataList'][0]\n",
    "\t\t\tfor k, v in dataDict.items():\n",
    "\t\t\t\tprint(\"%s\\t%s\"%(k, v))\n",
    "\t\telse:\n",
    "\t\t\tprint(dataResult['error_Description'])\n",
    "\telse:\n",
    "\t\tprint(response)"
   ]
  },
  {
   "cell_type": "code",
   "execution_count": null,
   "id": "ae0750fd-0c95-4fdd-861c-15ecd958e638",
   "metadata": {},
   "outputs": [],
   "source": [
    "import requests\n",
    "\n",
    "base_url = 'https://dataapi.octoparse.com/'\n",
    "USERNAME = \"YOUR USER NAME\"\n",
    "PASSWORD = \"YOUR PASSWORD\"\n",
    "\n",
    "print('Get token:')\n",
    "content = 'username={0}&password={1}&grant_type=password'.format(USERNAME,PASSWORD)\n",
    "token_entity = requests.post(base_url + 'token', data = content, headers={\"Content-Type\": \"application/x-www-form-urlencoded\"}).json()\n",
    "\n",
    "print(token_entity)"
   ]
  },
  {
   "cell_type": "code",
   "execution_count": null,
   "id": "9040abe5-5db1-4580-8c50-42bf2da74562",
   "metadata": {},
   "outputs": [],
   "source": [
    "refresh_token(base_url, token_entity['refresh_token'] )\n",
    "token = token_entity['access_token']"
   ]
  },
  {
   "cell_type": "code",
   "execution_count": null,
   "id": "fe02c456-1a02-4b06-a322-feea49affa33",
   "metadata": {},
   "outputs": [],
   "source": [
    "groups = get_task_group(base_url, token)"
   ]
  },
  {
   "cell_type": "code",
   "execution_count": null,
   "id": "cb9ac763-0d08-461f-8d96-30d2812d01b5",
   "metadata": {},
   "outputs": [],
   "source": [
    "tasks = get_task_by_group_id(base_url, token, groups[4]['taskGroupId'])"
   ]
  },
  {
   "cell_type": "code",
   "execution_count": null,
   "id": "6b4fd1a8-684b-4b69-ae0b-362b2df99ad1",
   "metadata": {},
   "outputs": [],
   "source": [
    "task_id = tasks[0]['taskId']"
   ]
  },
  {
   "cell_type": "code",
   "execution_count": null,
   "id": "0e79eccf-8751-4398-8258-ed995eae7934",
   "metadata": {},
   "outputs": [],
   "source": [
    "result = get_data_by_offset(base_url, token, task_id, 0, 30)"
   ]
  },
  {
   "cell_type": "code",
   "execution_count": null,
   "id": "e9de67ea-c3a1-4ede-8307-9c21b5c2aaba",
   "metadata": {},
   "outputs": [],
   "source": [
    "result"
   ]
  },
  {
   "cell_type": "code",
   "execution_count": null,
   "id": "826b4566-50a8-4c69-ab79-06990bc7f22f",
   "metadata": {},
   "outputs": [],
   "source": [
    "from langchain_openai import ChatOpenAI\n",
    "from langchain_community.agent_toolkits import JsonToolkit, create_json_agent\n",
    "from langchain_community.tools.json.tool import JsonSpec\n"
   ]
  },
  {
   "cell_type": "code",
   "execution_count": null,
   "id": "07565818-4de4-4642-9930-a498c6206dd9",
   "metadata": {},
   "outputs": [],
   "source": [
    "API_KEY = \"YOUR API KEY\"\n",
    "\n",
    "llm = ChatOpenAI(model_name=\"gpt-4o\", api_key=API_KEY, temperature=0)\n",
    "agent = create_json_agent(\n",
    "    llm=ChatOpenAI(temperature=0, api_key=API_KEY), \n",
    "    toolkit=json_toolkit, \n",
    "    verbose=True,\n",
    "    handle_parsing_errors=True\n",
    ")\n",
    "\n",
    "agent.run(\"Summarize the overall sentiments from the comments\")"
   ]
  },
  {
   "cell_type": "code",
   "execution_count": null,
   "id": "ff5e57fc-372a-434d-9f3d-e00a6cfc546d",
   "metadata": {},
   "outputs": [],
   "source": [
    "agent.run(\"Based on the comments in the dataList, tell me why users dislike the app \")"
   ]
  },
  {
   "cell_type": "code",
   "execution_count": null,
   "id": "efd53630-8c5e-46e1-aa24-ff799f1bbee4",
   "metadata": {},
   "outputs": [],
   "source": [
    "agent.run(\"Based on the comments in the dataList, is there any positive user feedback\")"
   ]
  }
 ],
 "metadata": {
  "kernelspec": {
   "display_name": "Python 3 (ipykernel)",
   "language": "python",
   "name": "python3"
  },
  "language_info": {
   "codemirror_mode": {
    "name": "ipython",
    "version": 3
   },
   "file_extension": ".py",
   "mimetype": "text/x-python",
   "name": "python",
   "nbconvert_exporter": "python",
   "pygments_lexer": "ipython3",
   "version": "3.12.2"
  }
 },
 "nbformat": 4,
 "nbformat_minor": 5
}
